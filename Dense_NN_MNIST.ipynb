{
  "nbformat": 4,
  "nbformat_minor": 0,
  "metadata": {
    "colab": {
      "provenance": []
    },
    "kernelspec": {
      "name": "python3",
      "display_name": "Python 3"
    },
    "language_info": {
      "name": "python"
    }
  },
  "cells": [
    {
      "cell_type": "markdown",
      "source": [
        "# Import numpy and set random seed"
      ],
      "metadata": {
        "id": "S1BrWPKO-LTZ"
      }
    },
    {
      "cell_type": "code",
      "source": [
        "import numpy as np\n",
        "# random seed so that results are reproducible\n",
        "rs = 1234\n",
        "np.random.seed(rs)"
      ],
      "metadata": {
        "id": "6opjPO96l0M-"
      },
      "execution_count": null,
      "outputs": []
    },
    {
      "cell_type": "markdown",
      "source": [
        "# Download the mnist dataset from tensorflow datasets and view an image"
      ],
      "metadata": {
        "id": "YfjJ5Vze-QEB"
      }
    },
    {
      "cell_type": "code",
      "source": [
        "import matplotlib.pyplot as plt\n",
        "from tensorflow.keras.datasets import mnist\n",
        "\n",
        "(train_images, train_labels), (test_images, test_labels) = mnist.load_data()\n",
        "\n",
        "y_train = train_labels\n",
        "y_test = test_labels\n",
        "\n",
        "def show_img_at_index(index):\n",
        "  plt.imshow(train_images[index], cmap='gray')\n",
        "  plt.title(f'Label: {train_labels[index]}')\n",
        "  plt.axis('off')\n",
        "  plt.show()\n",
        "\n",
        "show_img_at_index(0)"
      ],
      "metadata": {
        "colab": {
          "base_uri": "https://localhost:8080/",
          "height": 428
        },
        "id": "oYtIUJ5JvaWk",
        "outputId": "e379676e-7e2b-417f-f89b-eddd17a3f5f8"
      },
      "execution_count": null,
      "outputs": [
        {
          "output_type": "display_data",
          "data": {
            "text/plain": [
              "<Figure size 640x480 with 1 Axes>"
            ],
            "image/png": "[encoded data removed]"
          },
          "metadata": {}
        }
      ]
    },
    {
      "cell_type": "markdown",
      "source": [
        "# Reshape the dataset"
      ],
      "metadata": {
        "id": "pRdtrxeL-ouD"
      }
    },
    {
      "cell_type": "code",
      "source": [
        "# Normalize the pixel values to a range of 0 to 1\n",
        "train_images = train_images / 255.0\n",
        "test_images = test_images / 255.0\n",
        "print('Shape of train_images:', train_images.shape)\n",
        "print('Shape of test_images:', test_images.shape)\n",
        "\n",
        "# Flatten the images from a 2D grid to a 1D array for feeding into the neural network\n",
        "X_train = train_images.reshape((-1, 28 * 28))\n",
        "X_test = test_images.reshape((-1, 28 * 28))\n",
        "\n",
        "print('Shape of train dataset:', X_train.shape)\n",
        "print('Shape of test dataset:', X_test.shape)"
      ],
      "metadata": {
        "colab": {
          "base_uri": "https://localhost:8080/"
        },
        "id": "ziZVYp-_vbdH",
        "outputId": "53eb7870-621a-44d7-a16d-1193ab13e1c1"
      },
      "execution_count": null,
      "outputs": [
        {
          "output_type": "stream",
          "name": "stdout",
          "text": [
            "Shape of train_images: (60000, 28, 28)\n",
            "Shape of test_images: (10000, 28, 28)\n",
            "Shape of train dataset: (60000, 784)\n",
            "Shape of test dataset: (10000, 784)\n"
          ]
        }
      ]
    },
    {
      "cell_type": "markdown",
      "source": [
        "# Make batches from the dataset"
      ],
      "metadata": {
        "id": "gyqSC2mN-u9m"
      }
    },
    {
      "cell_type": "code",
      "source": [
        "# Split the training data into batches\n",
        "def make_batches(X, y, batch_size):\n",
        "  train_data_batches = []\n",
        "  for i in range(0, len(X_train), batch_size):\n",
        "    batch_data = X_train[i:i + batch_size]\n",
        "    batch_labels = y_train[i:i + batch_size]  # Assuming you have labels y_train\n",
        "    train_data_batches.append((batch_data, batch_labels))\n",
        "  return train_data_batches\n",
        "\n",
        "train_data_batched = make_batches(X_train, y_train, batch_size=64)\n",
        "# Check if the batches were made correctly:\n",
        "print('Number of batches in train dataset:', len(train_data_batched))\n",
        "for batch_idx, (batch_data, batch_labels) in enumerate(train_data_batched):\n",
        "    print(f'Shape of batch {batch_idx}: Data - {batch_data.shape}, Labels - {batch_labels.shape}')\n",
        "    if batch_idx == 5:\n",
        "      break\n",
        "\n",
        "test_data_batched = make_batches(X_test, y_test, batch_size=64)"
      ],
      "metadata": {
        "colab": {
          "base_uri": "https://localhost:8080/"
        },
        "id": "46XvBlrHvuci",
        "outputId": "316d62e3-671d-4b70-b6ad-f7c947445ddc"
      },
      "execution_count": null,
      "outputs": [
        {
          "output_type": "stream",
          "name": "stdout",
          "text": [
            "Number of batches in train dataset: 938\n",
            "Shape of batch 0: Data - (64, 784), Labels - (64,)\n",
            "Shape of batch 1: Data - (64, 784), Labels - (64,)\n",
            "Shape of batch 2: Data - (64, 784), Labels - (64,)\n",
            "Shape of batch 3: Data - (64, 784), Labels - (64,)\n",
            "Shape of batch 4: Data - (64, 784), Labels - (64,)\n",
            "Shape of batch 5: Data - (64, 784), Labels - (64,)\n"
          ]
        }
      ]
    },
    {
      "cell_type": "markdown",
      "source": [
        "# Implement the Neural Network's Dense Layer"
      ],
      "metadata": {
        "id": "Zdq-ZB-L-yH9"
      }
    },
    {
      "cell_type": "code",
      "source": [
        "def sigmoid(x):\n",
        "  return 1 / (1 + np.exp(-x))"
      ],
      "metadata": {
        "id": "-UXFocvYTcBn"
      },
      "execution_count": null,
      "outputs": []
    },
    {
      "cell_type": "code",
      "execution_count": null,
      "metadata": {
        "id": "h9p1RgRzlkch"
      },
      "outputs": [],
      "source": [
        "class Dense:\n",
        "  def __init__(self, num_inputs, num_units, activation='linear'):\n",
        "    self.W = np.random.randn(num_inputs, num_units) # from a std normal distribution\n",
        "    self.b = np.random.randn(1, num_units)\n",
        "    self.activation = activation\n",
        "\n",
        "  def forward(self, input_data):\n",
        "    self.input = input_data # store for backpropagation\n",
        "    self.output = np.dot(self.input, self.W) + self.b\n",
        "    if self.activation == 'linear':\n",
        "      return self.output\n",
        "    elif self.activation == 'relu':\n",
        "      self.output = np.maximum(0, self.output)\n",
        "    elif self.activation == 'tanh':\n",
        "      self.output = np.tanh(self.output)\n",
        "    elif self.activation == 'sigmoid':\n",
        "      self.output = sigmoid(self.output)\n",
        "    return self.output\n",
        "\n",
        "  def backward(self, grad, lr):\n",
        "    # grad is the backpropagation signal being sent through in a chain reaction backwards,\n",
        "    # after being calculated once at the final layer w.r.t the Loss Function\n",
        "    self.dW = np.dot(self.input.T, grad)\n",
        "    self.db = np.sum(grad, axis=0, keepdims=True)\n",
        "    # axis and keepdims are specified so that calculations are broadcasted correctly\n",
        "    self.grad = np.dot(grad, self.W.T)\n",
        "    # grad is the self.grad of the next layer to this one's hence why its coming in as an argument\n",
        "    self.W = self.W - lr * self.dW\n",
        "    self.b = self.b - lr * self.db\n",
        "    if self.activation == 'linear':\n",
        "      return self.grad\n",
        "    elif self.activation == 'relu':\n",
        "      self.grad = (self.input > 0).astype(np.float32) * self.grad\n",
        "    elif self.activation == 'tanh':\n",
        "      self.grad = (1 - np.tanh(self.input) ** 2) * self.grad\n",
        "    elif self.activation == 'sigmoid':\n",
        "      self.grad = sigmoid(self.input) * (1 - sigmoid(self.input)) * self.grad\n",
        "    return self.grad"
      ]
    },
    {
      "cell_type": "markdown",
      "source": [
        "# Softmax function implementation"
      ],
      "metadata": {
        "id": "RFrdFBv6_NCL"
      }
    },
    {
      "cell_type": "code",
      "source": [
        "def softmax(x):\n",
        "  # return an array where each element is the predicted probability for each label\n",
        "  exps = np.exp(x - np.max(x, axis=1, keepdims=True))\n",
        "  return exps / np.sum(exps, axis=1, keepdims=True)"
      ],
      "metadata": {
        "id": "AF3vKhTru1kL"
      },
      "execution_count": null,
      "outputs": []
    },
    {
      "cell_type": "markdown",
      "source": [
        "# Make and train the Neural Network"
      ],
      "metadata": {
        "id": "46ehsdJy_RAq"
      }
    },
    {
      "cell_type": "code",
      "source": [
        "input_size = 784  # 28x28 images flattened to 784\n",
        "hidden_size = 128\n",
        "output_size = 10  # 10 classes for MNIST (0-9)\n",
        "\n",
        "layer1 = Dense(input_size, hidden_size, activation='relu')\n",
        "layer2 = Dense(hidden_size, output_size, activation='linear')\n",
        "\n",
        "# Training loop\n",
        "epochs = 30\n",
        "learning_rate = 0.01\n",
        "\n",
        "for epoch in range(epochs):\n",
        "  error = 0\n",
        "  for batch_idx, (batch_data, batch_labels) in enumerate(train_data_batched):\n",
        "    # Forward pass\n",
        "    out_layer1 = layer1.forward(batch_data)\n",
        "    out_layer2 = layer2.forward(out_layer1)\n",
        "\n",
        "    # for each image in the batch, get an array where each element is the predicted probability for each of the 10 labels:\n",
        "    probs = softmax(out_layer2)\n",
        "    # extract the predicted probabilities of the correct labels for each image in the batch then find the mean\n",
        "    # negative log-likelihood loss for the batch\n",
        "    loss = -np.log(probs[range(len(batch_labels)), batch_labels]).mean()\n",
        "\n",
        "    error += loss\n",
        "\n",
        "    # Backpropagation\n",
        "    grad_softmax = probs\n",
        "    # To reduce the loss, the model will produce higher probabilities for the correct labels\n",
        "    # because we are only subtracting 1 for the correct labels' predicted probabilities\n",
        "    grad_softmax[range(len(batch_labels)), batch_labels] -= 1\n",
        "    # normalize the gradient so that the model training is independent of number of samples available in the dataset\n",
        "    grad_softmax /= len(batch_labels)\n",
        "\n",
        "    grad_layer2 = layer2.backward(grad_softmax, learning_rate)\n",
        "    grad_layer1 = layer1.backward(grad_layer2, learning_rate)\n",
        "\n",
        "  print(f\"Epoch {epoch + 1}: Training error {error}\")"
      ],
      "metadata": {
        "colab": {
          "base_uri": "https://localhost:8080/"
        },
        "id": "BVRiXevru5lL",
        "outputId": "1651969c-b71e-4e89-e248-1982f1690b36"
      },
      "execution_count": null,
      "outputs": [
        {
          "output_type": "stream",
          "name": "stdout",
          "text": [
            "Epoch 1: Training error 10708.32855996029\n",
            "Epoch 2: Training error 4327.948229581004\n",
            "Epoch 3: Training error 3355.949713344687\n",
            "Epoch 4: Training error 2816.4055144470553\n",
            "Epoch 5: Training error 2453.4333550345104\n",
            "Epoch 6: Training error 2183.5501635002\n",
            "Epoch 7: Training error 1969.8855321800406\n",
            "Epoch 8: Training error 1794.6573504457854\n",
            "Epoch 9: Training error 1647.6584499715084\n",
            "Epoch 10: Training error 1522.114707721464\n",
            "Epoch 11: Training error 1413.563596551184\n",
            "Epoch 12: Training error 1318.6393523991364\n",
            "Epoch 13: Training error 1234.5211536596717\n",
            "Epoch 14: Training error 1159.3895080225172\n",
            "Epoch 15: Training error 1091.640573210546\n",
            "Epoch 16: Training error 1030.3501511292998\n",
            "Epoch 17: Training error 974.6898572126223\n",
            "Epoch 18: Training error 923.872787094477\n",
            "Epoch 19: Training error 877.3994925563787\n",
            "Epoch 20: Training error 834.7382653323964\n",
            "Epoch 21: Training error 795.45324329651\n",
            "Epoch 22: Training error 759.1951047764146\n",
            "Epoch 23: Training error 725.6196284353541\n",
            "Epoch 24: Training error 694.5307175615168\n",
            "Epoch 25: Training error 665.7628289657232\n",
            "Epoch 26: Training error 639.0380099180774\n",
            "Epoch 27: Training error 614.2138804685023\n",
            "Epoch 28: Training error 591.146419483886\n",
            "Epoch 29: Training error 569.6737651989464\n",
            "Epoch 30: Training error 549.6642024000539\n"
          ]
        }
      ]
    },
    {
      "cell_type": "markdown",
      "source": [
        "# Test the trained Neural Network on the test datset"
      ],
      "metadata": {
        "id": "4OXgZV-i_Wzl"
      }
    },
    {
      "cell_type": "code",
      "source": [
        "correct_predictions = 0\n",
        "total_samples = 0\n",
        "error = 0\n",
        "for batch_idx, (batch_data, batch_labels) in enumerate(test_data_batched):\n",
        "  # Forward pass\n",
        "  out_layer1 = layer1.forward(batch_data)\n",
        "  out_layer2 = layer2.forward(out_layer1)\n",
        "\n",
        "  # Softmax and compute loss\n",
        "  probs = softmax(out_layer2)\n",
        "  loss = -np.log(probs[range(len(batch_labels)), batch_labels]).mean()\n",
        "\n",
        "  error += loss\n",
        "\n",
        "  # Calculations for finding accuracy of the model on the test dataset:\n",
        "  predicted_labels = np.argmax(probs, axis=1)\n",
        "  correct_predictions += np.sum(predicted_labels == batch_labels)\n",
        "  total_samples += len(batch_labels)\n",
        "\n",
        "accuracy = round(correct_predictions / total_samples * 100, 2)\n",
        "print(f\"Test error:    {error}\")\n",
        "print(f\"Test accuracy: {accuracy}%\")"
      ],
      "metadata": {
        "colab": {
          "base_uri": "https://localhost:8080/"
        },
        "id": "phbHsnLr1X4X",
        "outputId": "bdbb1b92-6d63-4834-9cee-26120971c453"
      },
      "execution_count": null,
      "outputs": [
        {
          "output_type": "stream",
          "name": "stdout",
          "text": [
            "Test error:    541.6574473726172\n",
            "Test accuracy: 90.22%\n"
          ]
        }
      ]
    },
    {
      "cell_type": "markdown",
      "source": [
        "# Visualize the predictions made by the model in a subplot"
      ],
      "metadata": {
        "id": "TcsS7iKL_ftO"
      }
    },
    {
      "cell_type": "code",
      "source": [
        "def visualize_batch_predictions(batch_data, predicted_labels, batch_labels, num_samples_to_visualize, num_images_per_row):\n",
        "  num_rows = int(np.ceil(num_samples_to_visualize / num_images_per_row))  # Assuming 5 images per row\n",
        "\n",
        "  plt.figure(figsize=(12, 10))\n",
        "  for i in range(num_samples_to_visualize):\n",
        "    plt.subplot(num_rows, num_images_per_row, i + 1)  # Create subplots\n",
        "    sample_image = batch_data[i].reshape(28, 28)  # Reshape the flattened image to its original shape\n",
        "    plt.imshow(sample_image, cmap='gray')\n",
        "    plt.title(f\"Predicted: {predicted_labels[i]}, Actual: {batch_labels[i]}\")\n",
        "    plt.axis('off')\n",
        "\n",
        "  plt.tight_layout()\n",
        "  plt.show()\n",
        "\n",
        "batch_idx = 10  # Choose the batch index for the batch that we want to visualize\n",
        "num_samples_to_visualize = 10  # Number of samples to visualize from the batch, taken from the beginning of the batch\n",
        "num_images_per_row = 5\n",
        "\n",
        "batch_data, batch_labels = test_data_batched[batch_idx]\n",
        "\n",
        "# Forward pass\n",
        "out_layer1 = layer1.forward(batch_data)\n",
        "out_layer2 = layer2.forward(out_layer1)\n",
        "\n",
        "# Softmax and compute predictions\n",
        "probs = softmax(out_layer2)\n",
        "predicted_labels = np.argmax(probs, axis=1)\n",
        "\n",
        "visualize_batch_predictions(batch_data, predicted_labels, batch_labels, num_samples_to_visualize, num_images_per_row)"
      ],
      "metadata": {
        "id": "We3bqB3Q2QrU",
        "colab": {
          "base_uri": "https://localhost:8080/",
          "height": 690
        },
        "outputId": "1e9de5b1-1d00-404d-c77e-0c7cdf612344"
      },
      "execution_count": null,
      "outputs": [
        {
          "output_type": "display_data",
          "data": {
            "text/plain": [
              "<Figure size 1200x1000 with 10 Axes>"
            ],
            "image/png": "[encoded data removed]"
          },
          "metadata": {}
        }
      ]
    }
  ]
}